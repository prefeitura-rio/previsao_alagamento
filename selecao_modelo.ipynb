{
 "cells": [
  {
   "cell_type": "code",
<<<<<<< HEAD
   "execution_count": 31,
=======
   "execution_count": 39,
>>>>>>> f0c27d8002538efa62a408ef2fc7ae903845538d
   "metadata": {},
   "outputs": [],
   "source": [
    "import numpy as np\n",
    "import pandas as pd\n",
    "import basedosdados as bd\n",
    "\n",
    "from sklearn.model_selection import train_test_split\n",
    "from sklearn.metrics import r2_score, mean_squared_error, precision_score, recall_score\n",
    "from sklearn.metrics import confusion_matrix, fbeta_score, brier_score_loss, precision_recall_curve, auc\n",
    "\n",
    "from sklearn.preprocessing import OneHotEncoder, LabelEncoder, StandardScaler\n",
    "\n",
    "from sklearn.linear_model import LogisticRegression\n",
    "from sklearn.neighbors import KNeighborsClassifier, LocalOutlierFactor\n",
    "from sklearn.neural_network import MLPClassifier\n",
    "from sklearn.tree import DecisionTreeClassifier\n",
    "from sklearn.ensemble import RandomForestClassifier, IsolationForest\n",
    "from sklearn.svm import SVC, OneClassSVM"
   ]
  },
  {
   "cell_type": "markdown",
   "metadata": {},
   "source": [
    "## Dados"
   ]
  },
  {
   "cell_type": "code",
<<<<<<< HEAD
   "execution_count": 23,
=======
   "execution_count": 40,
>>>>>>> f0c27d8002538efa62a408ef2fc7ae903845538d
   "metadata": {},
   "outputs": [],
   "source": [
    "# TODO rode isto para criar o csv com vários hexágonos (O finalizado)\n",
    "# main_table = bd.read_sql(query = \"\"\" SELECT * FROM `rj-cor-dev.clima_pluviometro.main_table_fields_1H_mais_frequentes`\"\"\", billing_project_id = \"projeto-fgv1\", use_bqstorage_api = True)\n",
    "# main_table.to_csv(\"csvs/main_table_mult_hexag.csv\")"
   ]
  },
  {
   "cell_type": "code",
<<<<<<< HEAD
   "execution_count": 24,
=======
   "execution_count": 41,
>>>>>>> f0c27d8002538efa62a408ef2fc7ae903845538d
   "metadata": {},
   "outputs": [],
   "source": [
    "main_table_k = pd.read_csv(\"csvs/main_table_mult_hexag.csv\")"
   ]
  },
  {
   "cell_type": "markdown",
   "metadata": {},
   "source": [
    "## Pré-processamento"
   ]
  },
  {
   "cell_type": "code",
<<<<<<< HEAD
   "execution_count": 32,
=======
   "execution_count": 42,
>>>>>>> f0c27d8002538efa62a408ef2fc7ae903845538d
   "metadata": {},
   "outputs": [],
   "source": [
    "main_table = main_table_k.copy()"
   ]
  },
  {
   "cell_type": "code",
<<<<<<< HEAD
   "execution_count": 33,
=======
   "execution_count": 43,
>>>>>>> f0c27d8002538efa62a408ef2fc7ae903845538d
   "metadata": {},
   "outputs": [],
   "source": [
    "main_table.fillna(0, inplace=True)\n",
    "\n",
    "main_table[\"target\"] = main_table[\"alagamento_pop\"].apply(lambda x: 1 if x > 0 else 0)\n",
    "\n",
    "main_table[\"id_h3\"] = main_table[\"id_h3\"].astype(\"category\")\n",
    "\n",
    "# Aplicar one-hot encoding na coluna \"estacao_ano\"\n",
    "one_hot_encoder = OneHotEncoder(sparse=False)\n",
    "encoded_cols = one_hot_encoder.fit_transform(main_table[[\"estacao_ano\"]])\n",
    "encoded_labels = one_hot_encoder.categories_[0]\n",
    "\n",
    "# Adicionar as colunas codificadas ao DataFrame original\n",
    "for i, label in enumerate(encoded_labels):\n",
    "    main_table[f\"estacao_ano_{label}\"] = encoded_cols[:, i]\n",
    "\n",
    "\n",
    "# Transformar a coluna id_h3 em categórica\n",
    "label_encoder = LabelEncoder()\n",
    "main_table[\"id_h3\"] = label_encoder.fit_transform(main_table[\"id_h3\"])\n",
    "\n",
    "\n",
    "main_table.drop(columns=[\"data_hora\", \"estacao_ano\", \"alagamento_fim\",\n",
    "                         \"estacoes\", \"Unnamed: 0\", \"alagamento_pop\", \"alagamento_inicio\", \n",
    "                         \"quinzenas\", \"alagamento_lat\", \"alagamento_long\", \"id_alagamento\",\n",
    "                         \"gravidade_alagamento\"], inplace=True)"
   ]
  },
  {
   "cell_type": "code",
<<<<<<< HEAD
   "execution_count": 34,
=======
   "execution_count": 44,
>>>>>>> f0c27d8002538efa62a408ef2fc7ae903845538d
   "metadata": {},
   "outputs": [
    {
     "data": {
      "text/html": [
       "<div>\n",
       "<style scoped>\n",
       "    .dataframe tbody tr th:only-of-type {\n",
       "        vertical-align: middle;\n",
       "    }\n",
       "\n",
       "    .dataframe tbody tr th {\n",
       "        vertical-align: top;\n",
       "    }\n",
       "\n",
       "    .dataframe thead th {\n",
       "        text-align: right;\n",
       "    }\n",
       "</style>\n",
       "<table border=\"1\" class=\"dataframe\">\n",
       "  <thead>\n",
       "    <tr style=\"text-align: right;\">\n",
       "      <th></th>\n",
       "      <th>id_h3</th>\n",
       "      <th>chuva_15min</th>\n",
       "      <th>chuva_1h</th>\n",
       "      <th>chuva_4h</th>\n",
       "      <th>chuva_24h</th>\n",
       "      <th>chuva_96h</th>\n",
       "      <th>estacao_ano_Inverno</th>\n",
       "      <th>estacao_ano_Outono</th>\n",
       "      <th>estacao_ano_Primavera</th>\n",
       "      <th>estacao_ano_Verão</th>\n",
       "    </tr>\n",
       "  </thead>\n",
       "  <tbody>\n",
       "    <tr>\n",
<<<<<<< HEAD
       "      <th>1169904</th>\n",
       "      <td>46</td>\n",
       "      <td>0.0</td>\n",
       "      <td>0.0</td>\n",
       "      <td>0.000000</td>\n",
       "      <td>0.000000</td>\n",
       "      <td>0.200000</td>\n",
=======
       "      <th>67310</th>\n",
       "      <td>0</td>\n",
>>>>>>> f0c27d8002538efa62a408ef2fc7ae903845538d
       "      <td>0.0</td>\n",
       "      <td>0.0</td>\n",
       "      <td>0.000000</td>\n",
       "      <td>0.000000</td>\n",
       "      <td>0.000000</td>\n",
       "      <td>0.0</td>\n",
       "      <td>0.0</td>\n",
       "      <td>1.0</td>\n",
       "      <td>0.0</td>\n",
       "    </tr>\n",
       "    <tr>\n",
<<<<<<< HEAD
       "      <th>669389</th>\n",
       "      <td>29</td>\n",
=======
       "      <th>34323</th>\n",
       "      <td>0</td>\n",
>>>>>>> f0c27d8002538efa62a408ef2fc7ae903845538d
       "      <td>0.0</td>\n",
       "      <td>0.0</td>\n",
       "      <td>0.000000</td>\n",
       "      <td>0.000000</td>\n",
<<<<<<< HEAD
       "      <td>0.000000</td>\n",
=======
       "      <td>2.800071</td>\n",
       "      <td>0.0</td>\n",
       "      <td>0.0</td>\n",
       "      <td>1.0</td>\n",
       "      <td>0.0</td>\n",
       "    </tr>\n",
       "    <tr>\n",
       "      <th>14363</th>\n",
       "      <td>0</td>\n",
       "      <td>0.0</td>\n",
       "      <td>0.0</td>\n",
       "      <td>2.199995</td>\n",
       "      <td>4.799952</td>\n",
       "      <td>7.399997</td>\n",
>>>>>>> f0c27d8002538efa62a408ef2fc7ae903845538d
       "      <td>1.0</td>\n",
       "      <td>0.0</td>\n",
       "      <td>0.0</td>\n",
       "      <td>0.0</td>\n",
       "    </tr>\n",
       "    <tr>\n",
<<<<<<< HEAD
       "      <th>2774759</th>\n",
       "      <td>22</td>\n",
       "      <td>0.0</td>\n",
       "      <td>0.0</td>\n",
       "      <td>0.068917</td>\n",
       "      <td>18.331036</td>\n",
       "      <td>11.921848</td>\n",
       "      <td>0.0</td>\n",
       "      <td>0.0</td>\n",
       "      <td>0.0</td>\n",
       "      <td>1.0</td>\n",
       "    </tr>\n",
       "    <tr>\n",
       "      <th>4033651</th>\n",
       "      <td>1</td>\n",
       "      <td>0.0</td>\n",
       "      <td>0.0</td>\n",
       "      <td>0.000000</td>\n",
       "      <td>0.000000</td>\n",
       "      <td>0.000000</td>\n",
       "      <td>0.0</td>\n",
       "      <td>0.0</td>\n",
       "      <td>1.0</td>\n",
       "      <td>0.0</td>\n",
       "    </tr>\n",
       "    <tr>\n",
       "      <th>2258501</th>\n",
       "      <td>25</td>\n",
=======
       "      <th>54341</th>\n",
       "      <td>0</td>\n",
       "      <td>0.0</td>\n",
       "      <td>0.0</td>\n",
       "      <td>0.000005</td>\n",
       "      <td>15.200427</td>\n",
       "      <td>15.800475</td>\n",
       "      <td>0.0</td>\n",
       "      <td>0.0</td>\n",
       "      <td>0.0</td>\n",
       "      <td>1.0</td>\n",
       "    </tr>\n",
       "    <tr>\n",
       "      <th>23676</th>\n",
       "      <td>0</td>\n",
>>>>>>> f0c27d8002538efa62a408ef2fc7ae903845538d
       "      <td>0.0</td>\n",
       "      <td>0.0</td>\n",
       "      <td>0.000000</td>\n",
       "      <td>0.000000</td>\n",
       "      <td>0.000000</td>\n",
       "      <td>1.0</td>\n",
       "      <td>0.0</td>\n",
       "      <td>0.0</td>\n",
       "      <td>0.0</td>\n",
       "    </tr>\n",
       "    <tr>\n",
       "      <th>...</th>\n",
       "      <td>...</td>\n",
       "      <td>...</td>\n",
       "      <td>...</td>\n",
       "      <td>...</td>\n",
       "      <td>...</td>\n",
       "      <td>...</td>\n",
       "      <td>...</td>\n",
       "      <td>...</td>\n",
       "      <td>...</td>\n",
       "      <td>...</td>\n",
       "    </tr>\n",
       "    <tr>\n",
<<<<<<< HEAD
       "      <th>3698271</th>\n",
       "      <td>11</td>\n",
=======
       "      <th>10647</th>\n",
       "      <td>0</td>\n",
       "      <td>0.0</td>\n",
       "      <td>0.0</td>\n",
       "      <td>0.000000</td>\n",
       "      <td>0.000000</td>\n",
       "      <td>60.199665</td>\n",
       "      <td>0.0</td>\n",
>>>>>>> f0c27d8002538efa62a408ef2fc7ae903845538d
       "      <td>0.0</td>\n",
       "      <td>0.0</td>\n",
       "      <td>0.000000</td>\n",
       "      <td>0.000000</td>\n",
       "      <td>0.799812</td>\n",
       "      <td>1.0</td>\n",
<<<<<<< HEAD
       "      <td>0.0</td>\n",
       "      <td>0.0</td>\n",
       "      <td>0.0</td>\n",
       "    </tr>\n",
       "    <tr>\n",
       "      <th>1719309</th>\n",
       "      <td>47</td>\n",
       "      <td>0.0</td>\n",
       "      <td>0.0</td>\n",
       "      <td>0.000000</td>\n",
       "      <td>0.000000</td>\n",
       "      <td>11.417596</td>\n",
=======
       "    </tr>\n",
       "    <tr>\n",
       "      <th>48396</th>\n",
       "      <td>0</td>\n",
       "      <td>0.0</td>\n",
       "      <td>0.0</td>\n",
       "      <td>0.000000</td>\n",
       "      <td>0.200472</td>\n",
       "      <td>0.200472</td>\n",
       "      <td>1.0</td>\n",
       "      <td>0.0</td>\n",
       "      <td>0.0</td>\n",
       "      <td>0.0</td>\n",
       "    </tr>\n",
       "    <tr>\n",
       "      <th>26022</th>\n",
       "      <td>0</td>\n",
       "      <td>0.0</td>\n",
       "      <td>0.0</td>\n",
       "      <td>0.000000</td>\n",
       "      <td>0.000000</td>\n",
       "      <td>0.000000</td>\n",
       "      <td>0.0</td>\n",
       "      <td>0.0</td>\n",
       "      <td>1.0</td>\n",
       "      <td>0.0</td>\n",
       "    </tr>\n",
       "    <tr>\n",
       "      <th>64259</th>\n",
       "      <td>0</td>\n",
>>>>>>> f0c27d8002538efa62a408ef2fc7ae903845538d
       "      <td>0.0</td>\n",
       "      <td>0.0</td>\n",
       "      <td>0.000000</td>\n",
       "      <td>0.000000</td>\n",
       "      <td>0.000000</td>\n",
       "      <td>1.0</td>\n",
       "      <td>0.0</td>\n",
       "      <td>0.0</td>\n",
       "      <td>0.0</td>\n",
       "    </tr>\n",
       "    <tr>\n",
<<<<<<< HEAD
       "      <th>1514465</th>\n",
       "      <td>9</td>\n",
=======
       "      <th>24616</th>\n",
       "      <td>0</td>\n",
>>>>>>> f0c27d8002538efa62a408ef2fc7ae903845538d
       "      <td>0.0</td>\n",
       "      <td>0.0</td>\n",
       "      <td>0.000000</td>\n",
       "      <td>8.804468</td>\n",
       "      <td>13.225380</td>\n",
       "      <td>0.0</td>\n",
       "      <td>0.0</td>\n",
       "      <td>0.0</td>\n",
       "      <td>1.0</td>\n",
       "    </tr>\n",
       "    <tr>\n",
       "      <th>3749992</th>\n",
       "      <td>26</td>\n",
       "      <td>0.0</td>\n",
       "      <td>0.0</td>\n",
       "      <td>0.000000</td>\n",
<<<<<<< HEAD
       "      <td>3.042105</td>\n",
       "      <td>39.104516</td>\n",
=======
       "      <td>0.000000</td>\n",
>>>>>>> f0c27d8002538efa62a408ef2fc7ae903845538d
       "      <td>0.0</td>\n",
       "      <td>0.0</td>\n",
       "      <td>1.0</td>\n",
       "      <td>0.0</td>\n",
<<<<<<< HEAD
       "    </tr>\n",
       "    <tr>\n",
       "      <th>1069279</th>\n",
       "      <td>9</td>\n",
       "      <td>0.0</td>\n",
       "      <td>0.0</td>\n",
       "      <td>0.000000</td>\n",
       "      <td>0.000000</td>\n",
       "      <td>0.000000</td>\n",
       "      <td>0.0</td>\n",
       "      <td>0.0</td>\n",
       "      <td>1.0</td>\n",
       "      <td>0.0</td>\n",
=======
>>>>>>> f0c27d8002538efa62a408ef2fc7ae903845538d
       "    </tr>\n",
       "  </tbody>\n",
       "</table>\n",
       "<p>605277 rows × 10 columns</p>\n",
       "</div>"
      ],
      "text/plain": [
<<<<<<< HEAD
       "         id_h3  chuva_15min  chuva_1h  chuva_4h  chuva_24h  chuva_96h  \\\n",
       "1169904     46          0.0       0.0  0.000000   0.000000   0.200000   \n",
       "669389      29          0.0       0.0  0.000000   0.000000   0.000000   \n",
       "2774759     22          0.0       0.0  0.068917  18.331036  11.921848   \n",
       "4033651      1          0.0       0.0  0.000000   0.000000   0.000000   \n",
       "2258501     25          0.0       0.0  0.000000   0.000000   0.000000   \n",
       "...        ...          ...       ...       ...        ...        ...   \n",
       "3698271     11          0.0       0.0  0.000000   0.000000   0.799812   \n",
       "1719309     47          0.0       0.0  0.000000   0.000000  11.417596   \n",
       "1514465      9          0.0       0.0  0.000000   8.804468  13.225380   \n",
       "3749992     26          0.0       0.0  0.000000   3.042105  39.104516   \n",
       "1069279      9          0.0       0.0  0.000000   0.000000   0.000000   \n",
       "\n",
       "         estacao_ano_Inverno  estacao_ano_Outono  estacao_ano_Primavera  \\\n",
       "1169904                  0.0                 0.0                    0.0   \n",
       "669389                   1.0                 0.0                    0.0   \n",
       "2774759                  0.0                 0.0                    0.0   \n",
       "4033651                  0.0                 0.0                    1.0   \n",
       "2258501                  1.0                 0.0                    0.0   \n",
       "...                      ...                 ...                    ...   \n",
       "3698271                  1.0                 0.0                    0.0   \n",
       "1719309                  0.0                 1.0                    0.0   \n",
       "1514465                  0.0                 0.0                    0.0   \n",
       "3749992                  0.0                 0.0                    1.0   \n",
       "1069279                  0.0                 0.0                    1.0   \n",
       "\n",
       "         estacao_ano_Verão  \n",
       "1169904                1.0  \n",
       "669389                 0.0  \n",
       "2774759                1.0  \n",
       "4033651                0.0  \n",
       "2258501                0.0  \n",
       "...                    ...  \n",
       "3698271                0.0  \n",
       "1719309                0.0  \n",
       "1514465                1.0  \n",
       "3749992                0.0  \n",
       "1069279                0.0  \n",
=======
       "       id_h3  chuva_15min  chuva_1h  chuva_4h  chuva_24h  chuva_96h  \\\n",
       "67310      0          0.0       0.0  0.000000   0.000000   0.000000   \n",
       "34323      0          0.0       0.0  0.000000   0.000000   2.800071   \n",
       "14363      0          0.0       0.0  2.199995   4.799952   7.399997   \n",
       "54341      0          0.0       0.0  0.000005  15.200427  15.800475   \n",
       "23676      0          0.0       0.0  0.000000   0.000000   0.000000   \n",
       "...      ...          ...       ...       ...        ...        ...   \n",
       "10647      0          0.0       0.0  0.000000   0.000000  60.199665   \n",
       "48396      0          0.0       0.0  0.000000   0.200472   0.200472   \n",
       "26022      0          0.0       0.0  0.000000   0.000000   0.000000   \n",
       "64259      0          0.0       0.0  0.000000   0.000000   0.000000   \n",
       "24616      0          0.0       0.0  0.000000   0.000000   0.000000   \n",
       "\n",
       "       estacao_ano_Inverno  estacao_ano_Outono  estacao_ano_Primavera  \\\n",
       "67310                  0.0                 0.0                    1.0   \n",
       "34323                  0.0                 0.0                    1.0   \n",
       "14363                  1.0                 0.0                    0.0   \n",
       "54341                  0.0                 0.0                    0.0   \n",
       "23676                  1.0                 0.0                    0.0   \n",
       "...                    ...                 ...                    ...   \n",
       "10647                  0.0                 0.0                    0.0   \n",
       "48396                  1.0                 0.0                    0.0   \n",
       "26022                  0.0                 0.0                    1.0   \n",
       "64259                  1.0                 0.0                    0.0   \n",
       "24616                  0.0                 0.0                    1.0   \n",
       "\n",
       "       estacao_ano_Verão  \n",
       "67310                0.0  \n",
       "34323                0.0  \n",
       "14363                0.0  \n",
       "54341                1.0  \n",
       "23676                0.0  \n",
       "...                  ...  \n",
       "10647                1.0  \n",
       "48396                0.0  \n",
       "26022                0.0  \n",
       "64259                0.0  \n",
       "24616                0.0  \n",
>>>>>>> f0c27d8002538efa62a408ef2fc7ae903845538d
       "\n",
       "[605277 rows x 10 columns]"
      ]
     },
<<<<<<< HEAD
     "execution_count": 34,
=======
     "execution_count": 44,
>>>>>>> f0c27d8002538efa62a408ef2fc7ae903845538d
     "metadata": {},
     "output_type": "execute_result"
    }
   ],
   "source": [
    "X = main_table.drop(columns=[\"target\"])\n",
    "y = main_table[\"target\"]\n",
    "\n",
    "X_train, X_test, y_train, y_test = train_test_split(X, y, test_size=0.3)\n",
    "X_val, X_test, y_val, y_test = train_test_split(X_test, y_test, test_size=0.5)\n",
    "\n",
    "std = StandardScaler()\n",
    "\n",
    "X_train_standard = std.fit_transform(X_train)\n",
    "X_val_standard = std.transform(X_val)\n",
    "X_test_standard = std.transform(X_test)\n",
    "\n",
    "X_test"
   ]
  },
  {
   "cell_type": "markdown",
   "metadata": {},
   "source": [
    "## Modelos"
   ]
  },
  {
   "cell_type": "code",
<<<<<<< HEAD
   "execution_count": 35,
=======
   "execution_count": 45,
>>>>>>> f0c27d8002538efa62a408ef2fc7ae903845538d
   "metadata": {},
   "outputs": [
    {
     "name": "stdout",
     "output_type": "stream",
     "text": [
<<<<<<< HEAD
      "Naive Model\n",
      "R2:  -0.0020379242640451434\n",
      "MSE:  0.0020337795753018867\n",
      "Precision:  0.0\n",
      "Recall:  0.0\n",
      "F0.5:  0.0\n",
      "Area under Precision Recall Curve:  0.49898311021234903\n",
      "Brier Score:  0.0020337795753018867\n",
      "Confusion Matrix: \n",
      " [[604046      0]\n",
      " [  1231      0]]\n"
     ]
    }
   ],
   "source": [
    "# Naive Model\n",
    "# predicts majority class always\n",
    "\n",
    "# predictid minority proportion\n",
    "\n",
    "naive_pred = np.ones(len(y_test)) * y_train.mean()\n",
    "y_pred_nv = np.where(naive_pred > 0.5, 1, 0)\n",
    "\n",
    "# metrics\n",
    "print(\"Naive Model\")\n",
    "\n",
    "print(\"R2: \", r2_score(y_test, y_pred_nv))\n",
    "print(\"MSE: \", mean_squared_error(y_test, y_pred_nv))\n",
    "print(\"Precision: \", precision_score(y_test, y_pred_nv))\n",
    "print(\"Recall: \", recall_score(y_test, y_pred_nv))\n",
    "print(\"F0.5: \", fbeta_score(y_test, y_pred_nv, beta=0.5))\n",
    "recall_nv, precision_nv, th_nv = precision_recall_curve(y_test, y_pred_nv)\n",
    "print(\"Area under Precision Recall Curve: \", auc(recall_nv, precision_nv))\n",
    "print(\"Brier Score: \", brier_score_loss(y_test, y_pred_nv))\n",
    "print(\"Confusion Matrix: \\n\", confusion_matrix(y_test, y_pred_nv))"
   ]
  },
  {
   "cell_type": "code",
   "execution_count": 36,
   "metadata": {},
   "outputs": [
    {
     "name": "stdout",
     "output_type": "stream",
     "text": [
      "R²:  -0.037854064530184806\n",
      "Precison:  0.36585365853658536\n",
      "Recall:  0.048740861088545896\n",
      "Brier Score:  0.0021064735649958615\n",
      "F-0.5 Score:  0.1589825119236884\n",
      "Area under Precision Recall Curve:  0.20623080594103244\n",
      "confusion_matrix: \n",
      " [[603942    104]\n",
      " [  1171     60]]\n"
=======
      "Accuracy:  0.9888462879051935\n",
      "R²:  0.14101545253863135\n",
      "Error:  0.011153712094806553\n",
      "Precison:  0.7254901960784313\n",
      "Recall:  0.24503311258278146\n",
      "MCC:  0.4176597099319482\n",
      "Brier Score:  0.011153712094806553\n",
      "F-beta Score:  0.5211267605633803\n",
      "Area under Precision Recall Curve:  0.4770706470109828\n",
      "confusion matrix:\n",
      " [[11311    14]\n",
      " [  114    37]]\n"
>>>>>>> f0c27d8002538efa62a408ef2fc7ae903845538d
     ]
    }
   ],
   "source": [
    "# Logistic Regression\n",
    "\n",
    "logreg = LogisticRegression(max_iter=1000)\n",
    "logreg.fit(X_train_standard, y_train)\n",
    "\n",
    "y_pred_lr = logreg.predict(X_test_standard)\n",
    "\n",
    "print(\"R²: \", r2_score(y_test, y_pred_lr))\n",
    "print(\"Precison: \", precision_score(y_test, y_pred_lr))\n",
    "print(\"Recall: \", recall_score(y_test, y_pred_lr))\n",
    "print(\"Brier Score: \", brier_score_loss(y_test, y_pred_lr))\n",
<<<<<<< HEAD
    "print(\"F-0.5 Score: \", fbeta_score(y_test, y_pred_lr, beta=0.5))\n",
=======
    "print(\"F-beta Score: \", fbeta_score(y_test, y_pred_lr, beta=0.5))\n",
    "\n",
>>>>>>> f0c27d8002538efa62a408ef2fc7ae903845538d
    "recall_lr, precision_lr, th_lr = precision_recall_curve(y_test, y_pred_lr)\n",
    "print(\"Area under Precision Recall Curve: \", auc(recall_lr, precision_lr))\n",
    "print(\"confusion_matrix: \\n\", confusion_matrix(y_test, y_pred_lr))"
   ]
  },
  {
   "cell_type": "code",
<<<<<<< HEAD
   "execution_count": 37,
=======
   "execution_count": 46,
>>>>>>> f0c27d8002538efa62a408ef2fc7ae903845538d
   "metadata": {},
   "outputs": [
    {
     "name": "stdout",
     "output_type": "stream",
     "text": [
<<<<<<< HEAD
      "R²:  0.05168628613516435\n",
      "Precison:  0.8202265412860429\n",
      "Recall:  0.5604511991413827\n",
      "Brier Score:  0.0019247385907609244\n",
      "F-0.5 Score:  0.3450671607225568\n",
      "Area under Precision Recall Curve:  0.3805006182441584\n",
      "confusion_matrix: \n",
      " [[603963     83]\n",
      " [  1082    149]]\n"
=======
      "Accuracy:  0.9905019170442663\n",
      "R²:  0.26852097130242825\n",
      "Error:  0.009498082955733705\n",
      "Precison:  0.9150180593159505\n",
      "Recall:  0.6717439293598234\n",
      "MCC:  0.5339544260036041\n",
      "Brier Score:  0.009498082955733705\n",
      "F-beta Score:  0.6516290726817041\n",
      "Area under Precision Recall Curve:  0.5826957240355749\n",
      "confusion matrix binary:\n",
      " [[11315    10]\n",
      " [   99    52]]\n"
>>>>>>> f0c27d8002538efa62a408ef2fc7ae903845538d
     ]
    }
   ],
   "source": [
    "# KNN\n",
    "\n",
    "knn = KNeighborsClassifier(n_neighbors=11)\n",
    "knn.fit(X_train_standard, y_train)\n",
    "\n",
    "y_pred_knn = knn.predict(X_test_standard)\n",
    "\n",
    "print(\"R²: \", r2_score(y_test, y_pred_knn))\n",
    "print(\"Precison: \", precision_score(y_test, y_pred_knn, average=\"macro\"))\n",
    "print(\"Recall: \", recall_score(y_test, y_pred_knn, average=\"macro\"))\n",
    "print(\"Brier Score: \", brier_score_loss(y_test, y_pred_knn))\n",
<<<<<<< HEAD
    "print(\"F-0.5 Score: \", fbeta_score(y_test, y_pred_knn, beta=0.5))\n",
=======
    "print(\"F-beta Score: \", fbeta_score(y_test, y_pred_knn, beta=0.5))\n",
    "\n",
>>>>>>> f0c27d8002538efa62a408ef2fc7ae903845538d
    "recall_knn, precision_knn, th_knn = precision_recall_curve(y_test, y_pred_knn)\n",
    "print(\"Area under Precision Recall Curve: \", auc(recall_knn, precision_knn))\n",
    "print(\"confusion_matrix: \\n\", confusion_matrix(y_test, y_pred_knn))"
   ]
  },
  {
   "cell_type": "code",
<<<<<<< HEAD
   "execution_count": 38,
=======
   "execution_count": 47,
>>>>>>> f0c27d8002538efa62a408ef2fc7ae903845538d
   "metadata": {},
   "outputs": [
    {
     "name": "stdout",
     "output_type": "stream",
     "text": [
<<<<<<< HEAD
      "R²:  -0.0012239210761784136\n",
      "Precison:  0.5151515151515151\n",
      "Recall:  0.01380991064175467\n",
      "Brier Score:  0.0020321274391724782\n",
      "F-0.5 Score:  0.0623624358033749\n",
      "Area under Precision Recall Curve:  0.26344977995188396\n",
      "confusion_matrix: \n",
      " [[604030     16]\n",
      " [  1214     17]]\n"
=======
      "Accuracy:  0.9884977344022308\n",
      "R²:  0.11417218543046359\n",
      "Error:  0.011502265597769257\n",
      "Precison:  0.8518518518518519\n",
      "Recall:  0.152317880794702\n",
      "MCC:  0.3574247144340602\n",
      "Brier Score:  0.011502265597769257\n",
      "F-beta Score:  0.44401544401544407\n",
      "Area under Precision Recall Curve:  0.49450382763383816\n",
      "confusion matrix:\n",
      " [[11321     4]\n",
      " [  128    23]]\n"
>>>>>>> f0c27d8002538efa62a408ef2fc7ae903845538d
     ]
    }
   ],
   "source": [
    "# Neural Network\n",
    "\n",
    "# 10 camadas ocultas com 10 neurônios cada relu\n",
    "mlp = MLPClassifier(hidden_layer_sizes=(5,5), max_iter=1000, activation=\"relu\", \n",
    "                    solver=\"adam\", random_state=1, early_stopping=True)\n",
    "mlp.fit(X_train_standard, y_train)\n",
    "\n",
    "y_pred_nn = mlp.predict(X_test_standard)\n",
    "\n",
    "print(\"R²: \", r2_score(y_test, y_pred_nn))\n",
    "print(\"Precison: \", precision_score(y_test, y_pred_nn))\n",
    "print(\"Recall: \", recall_score(y_test, y_pred_nn))\n",
    "print(\"Brier Score: \", brier_score_loss(y_test, y_pred_nn))\n",
<<<<<<< HEAD
    "print(\"F-0.5 Score: \", fbeta_score(y_test, y_pred_nn, beta=0.5))\n",
=======
    "print(\"F-beta Score: \", fbeta_score(y_test, y_pred_nn, beta=0.5))\n",
    "\n",
>>>>>>> f0c27d8002538efa62a408ef2fc7ae903845538d
    "recall_nn, precision_nn, th_nn = precision_recall_curve(y_test, y_pred_nn)\n",
    "print(\"Area under Precision Recall Curve: \", auc(recall_nn, precision_nn))\n",
    "print(\"confusion_matrix: \\n\", confusion_matrix(y_test, y_pred_nn))"
   ]
  },
  {
   "cell_type": "code",
<<<<<<< HEAD
   "execution_count": 39,
=======
   "execution_count": 48,
>>>>>>> f0c27d8002538efa62a408ef2fc7ae903845538d
   "metadata": {},
   "outputs": [
    {
     "name": "stdout",
     "output_type": "stream",
     "text": [
<<<<<<< HEAD
      "R²:  -0.2226327881759511\n",
      "Precison:  0.3942232630757221\n",
      "Recall:  0.4102355808285946\n",
      "Brier Score:  0.0024815084663715953\n",
      "F-0.5 Score:  0.39732494099134535\n",
      "Area under Precision Recall Curve:  0.4007953677918318\n",
      "confusion matrix:\n",
      " [[603270    776]\n",
      " [   726    505]]\n"
=======
      "Accuracy:  0.987626350644824\n",
      "R²:  0.0470640176600442\n",
      "Error:  0.01237364935517602\n",
      "Precison:  0.5290322580645161\n",
      "Recall:  0.543046357615894\n",
      "MCC:  0.5297248667146188\n",
      "Brier Score:  0.01237364935517602\n",
      "F-beta Score:  0.5317769130998704\n",
      "Area under Precision Recall Curve:  0.5258876870664163\n",
      "confusion matrix:\n",
      " [[11252    73]\n",
      " [   69    82]]\n"
>>>>>>> f0c27d8002538efa62a408ef2fc7ae903845538d
     ]
    }
   ],
   "source": [
    "# Decision Tree\n",
    "\n",
    "dt = DecisionTreeClassifier()\n",
    "dt.fit(X_train, y_train)\n",
    "\n",
    "y_pred_dt = dt.predict(X_test)\n",
    "\n",
    "print(\"R²: \", r2_score(y_test, y_pred_dt))\n",
    "print(\"Precison: \", precision_score(y_test, y_pred_dt))\n",
    "print(\"Recall: \", recall_score(y_test, y_pred_dt))\n",
    "print(\"Brier Score: \", brier_score_loss(y_test, y_pred_dt))\n",
<<<<<<< HEAD
    "print(\"F-0.5 Score: \", fbeta_score(y_test, y_pred_dt, beta=0.5))\n",
=======
    "print(\"F-beta Score: \", fbeta_score(y_test, y_pred_dt, beta=0.5))\n",
    "\n",
>>>>>>> f0c27d8002538efa62a408ef2fc7ae903845538d
    "recall_dt, precision_dt, th_dt = precision_recall_curve(y_test, y_pred_dt)\n",
    "print(\"Area under Precision Recall Curve: \", auc(recall_dt, precision_dt))\n",
    "print(\"confusion matrix:\\n\", confusion_matrix(y_test, y_pred_dt))"
   ]
  },
  {
   "cell_type": "code",
<<<<<<< HEAD
   "execution_count": 40,
=======
   "execution_count": 49,
>>>>>>> f0c27d8002538efa62a408ef2fc7ae903845538d
   "metadata": {},
   "outputs": [
    {
     "name": "stdout",
     "output_type": "stream",
     "text": [
<<<<<<< HEAD
      "R²:  0.1965788535754569\n",
      "Precison:  0.7904761904761904\n",
      "Recall:  0.2696994313566206\n",
      "Brier Score:  0.001630658359726208\n",
      "F-0.5 Score:  0.5702507729302644\n",
      "Area under Precision Recall Curve:  0.5287966665312727\n",
      "confusion matrix:\n",
      " [[603958     88]\n",
      " [   899    332]]\n"
=======
      "Accuracy:  0.9912861624259324\n",
      "R²:  0.32891832229580575\n",
      "Error:  0.00871383757406762\n",
      "Precison:  0.8695652173913043\n",
      "Recall:  0.3973509933774834\n",
      "MCC:  0.5845237437940191\n",
      "Brier Score:  0.00871383757406762\n",
      "F-beta Score:  0.7025761124121779\n",
      "Area under Precision Recall Curve:  0.6242650067437525\n",
      "confusion matrix:\n",
      " [[11316     9]\n",
      " [   91    60]]\n"
>>>>>>> f0c27d8002538efa62a408ef2fc7ae903845538d
     ]
    }
   ],
   "source": [
    "# Random Forest\n",
    "\n",
    "rf = RandomForestClassifier(n_estimators=10, criterion=\"entropy\")\n",
    "rf.fit(X_train, y_train)\n",
    "\n",
    "y_pred_rf = rf.predict(X_test)\n",
    "\n",
    "print(\"R²: \", r2_score(y_test, y_pred_rf))\n",
    "print(\"Precison: \", precision_score(y_test, y_pred_rf))\n",
    "print(\"Recall: \", recall_score(y_test, y_pred_rf))\n",
    "print(\"Brier Score: \", brier_score_loss(y_test, y_pred_rf))\n",
<<<<<<< HEAD
    "print(\"F-0.5 Score: \", fbeta_score(y_test, y_pred_rf, beta=0.5))\n",
=======
    "print(\"F-beta Score: \", fbeta_score(y_test, y_pred_rf, beta=0.5))\n",
    "\n",
>>>>>>> f0c27d8002538efa62a408ef2fc7ae903845538d
    "recall_rf, precision_rf, th_rf = precision_recall_curve(y_test, y_pred_rf)\n",
    "print(\"Area under Precision Recall Curve: \", auc(recall_rf, precision_rf))\n",
    "print(\"confusion matrix:\\n\", confusion_matrix(y_test, y_pred_rf))"
   ]
  },
  {
   "cell_type": "code",
<<<<<<< HEAD
   "execution_count": 13,
=======
   "execution_count": 50,
>>>>>>> f0c27d8002538efa62a408ef2fc7ae903845538d
   "metadata": {},
   "outputs": [
    {
     "name": "stdout",
     "output_type": "stream",
     "text": [
<<<<<<< HEAD
      "R²:  0.2526258448747565\n",
      "Precison:  0.8958333333333334\n",
      "Recall:  0.296551724137931\n",
      "Brier Score:  0.009323806204252353\n",
      "F-0.5 Score:  0.6379821958456974\n",
      "Area under Precision Recall Curve:  0.5880015214160087\n",
      "confusion matrix:\n",
      " [[11326     5]\n",
      " [  102    43]]\n"
=======
      "Accuracy:  0.9895433949111189\n",
      "R²:  0.19470198675496697\n",
      "Error:  0.010456605088881143\n",
      "Precison:  0.8974358974358975\n",
      "Recall:  0.23178807947019867\n",
      "MCC:  0.45315630317054245\n",
      "Brier Score:  0.010456605088881143\n",
      "F-beta Score:  0.5700325732899023\n",
      "Area under Precision Recall Curve:  0.5565081195091651\n",
      "confusion matrix:\n",
      " [[11321     4]\n",
      " [  116    35]]\n"
>>>>>>> f0c27d8002538efa62a408ef2fc7ae903845538d
     ]
    }
   ],
   "source": [
    "# SVM\n",
    "\n",
    "svm = SVC()\n",
    "\n",
    "svm.fit(X_train_standard, y_train)\n",
    "\n",
    "y_pred_svm = svm.predict(X_test_standard)\n",
    "\n",
    "print(\"R²: \", r2_score(y_test, y_pred_svm))\n",
    "print(\"Precison: \", precision_score(y_test, y_pred_svm))\n",
    "print(\"Recall: \", recall_score(y_test, y_pred_svm))\n",
    "print(\"Brier Score: \", brier_score_loss(y_test, y_pred_svm))\n",
<<<<<<< HEAD
    "print(\"F-0.5 Score: \", fbeta_score(y_test, y_pred_svm, beta=0.5))\n",
=======
    "print(\"F-beta Score: \", fbeta_score(y_test, y_pred_svm, beta=0.5))\n",
    "\n",
>>>>>>> f0c27d8002538efa62a408ef2fc7ae903845538d
    "recall_svm, precision_svm, th_svm = precision_recall_curve(y_test, y_pred_svm)\n",
    "print(\"Area under Precision Recall Curve: \", auc(recall_svm, precision_svm))\n",
    "print(\"confusion matrix:\\n\", confusion_matrix(y_test, y_pred_svm))\n"
   ]
  },
  {
<<<<<<< HEAD
   "cell_type": "markdown",
   "metadata": {},
=======
   "cell_type": "code",
   "execution_count": 51,
   "metadata": {},
   "outputs": [
    {
     "data": {
      "text/html": [
       "<div>\n",
       "<style scoped>\n",
       "    .dataframe tbody tr th:only-of-type {\n",
       "        vertical-align: middle;\n",
       "    }\n",
       "\n",
       "    .dataframe tbody tr th {\n",
       "        vertical-align: top;\n",
       "    }\n",
       "\n",
       "    .dataframe thead th {\n",
       "        text-align: right;\n",
       "    }\n",
       "</style>\n",
       "<table border=\"1\" class=\"dataframe\">\n",
       "  <thead>\n",
       "    <tr style=\"text-align: right;\">\n",
       "      <th></th>\n",
       "      <th>chuva_15min</th>\n",
       "      <th>chuva_1h</th>\n",
       "      <th>chuva_4h</th>\n",
       "      <th>chuva_24h</th>\n",
       "      <th>chuva_96h</th>\n",
       "      <th>ds</th>\n",
       "      <th>estacao_ano_Inverno</th>\n",
       "      <th>estacao_ano_Outono</th>\n",
       "      <th>estacao_ano_Primavera</th>\n",
       "      <th>estacao_ano_Verão</th>\n",
       "      <th>y</th>\n",
       "    </tr>\n",
       "  </thead>\n",
       "  <tbody>\n",
       "    <tr>\n",
       "      <th>0</th>\n",
       "      <td>0.0</td>\n",
       "      <td>0.0</td>\n",
       "      <td>0.0</td>\n",
       "      <td>0.600326</td>\n",
       "      <td>6.400151</td>\n",
       "      <td>2015-01-01 00:00:00</td>\n",
       "      <td>0.0</td>\n",
       "      <td>0.0</td>\n",
       "      <td>0.0</td>\n",
       "      <td>1.0</td>\n",
       "      <td>0</td>\n",
       "    </tr>\n",
       "    <tr>\n",
       "      <th>1</th>\n",
       "      <td>0.0</td>\n",
       "      <td>0.0</td>\n",
       "      <td>0.0</td>\n",
       "      <td>0.600326</td>\n",
       "      <td>6.400151</td>\n",
       "      <td>2015-01-01 01:00:00</td>\n",
       "      <td>0.0</td>\n",
       "      <td>0.0</td>\n",
       "      <td>0.0</td>\n",
       "      <td>1.0</td>\n",
       "      <td>0</td>\n",
       "    </tr>\n",
       "    <tr>\n",
       "      <th>2</th>\n",
       "      <td>0.0</td>\n",
       "      <td>0.0</td>\n",
       "      <td>0.0</td>\n",
       "      <td>0.600326</td>\n",
       "      <td>6.400151</td>\n",
       "      <td>2015-01-01 02:00:00</td>\n",
       "      <td>0.0</td>\n",
       "      <td>0.0</td>\n",
       "      <td>0.0</td>\n",
       "      <td>1.0</td>\n",
       "      <td>0</td>\n",
       "    </tr>\n",
       "    <tr>\n",
       "      <th>3</th>\n",
       "      <td>0.0</td>\n",
       "      <td>0.0</td>\n",
       "      <td>0.0</td>\n",
       "      <td>0.600326</td>\n",
       "      <td>6.400151</td>\n",
       "      <td>2015-01-01 03:00:00</td>\n",
       "      <td>0.0</td>\n",
       "      <td>0.0</td>\n",
       "      <td>0.0</td>\n",
       "      <td>1.0</td>\n",
       "      <td>0</td>\n",
       "    </tr>\n",
       "    <tr>\n",
       "      <th>4</th>\n",
       "      <td>0.0</td>\n",
       "      <td>0.0</td>\n",
       "      <td>0.0</td>\n",
       "      <td>0.600326</td>\n",
       "      <td>6.400151</td>\n",
       "      <td>2015-01-01 04:00:00</td>\n",
       "      <td>0.0</td>\n",
       "      <td>0.0</td>\n",
       "      <td>0.0</td>\n",
       "      <td>1.0</td>\n",
       "      <td>0</td>\n",
       "    </tr>\n",
       "  </tbody>\n",
       "</table>\n",
       "</div>"
      ],
      "text/plain": [
       "   chuva_15min  chuva_1h  chuva_4h  chuva_24h  chuva_96h                  ds  \\\n",
       "0          0.0       0.0       0.0   0.600326   6.400151 2015-01-01 00:00:00   \n",
       "1          0.0       0.0       0.0   0.600326   6.400151 2015-01-01 01:00:00   \n",
       "2          0.0       0.0       0.0   0.600326   6.400151 2015-01-01 02:00:00   \n",
       "3          0.0       0.0       0.0   0.600326   6.400151 2015-01-01 03:00:00   \n",
       "4          0.0       0.0       0.0   0.600326   6.400151 2015-01-01 04:00:00   \n",
       "\n",
       "   estacao_ano_Inverno  estacao_ano_Outono  estacao_ano_Primavera  \\\n",
       "0                  0.0                 0.0                    0.0   \n",
       "1                  0.0                 0.0                    0.0   \n",
       "2                  0.0                 0.0                    0.0   \n",
       "3                  0.0                 0.0                    0.0   \n",
       "4                  0.0                 0.0                    0.0   \n",
       "\n",
       "   estacao_ano_Verão  y  \n",
       "0                1.0  0  \n",
       "1                1.0  0  \n",
       "2                1.0  0  \n",
       "3                1.0  0  \n",
       "4                1.0  0  "
      ]
     },
     "execution_count": 51,
     "metadata": {},
     "output_type": "execute_result"
    },
    {
     "data": {
      "image/png": "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",
      "text/plain": [
       "<Figure size 1000x500 with 1 Axes>"
      ]
     },
     "metadata": {},
     "output_type": "display_data"
    }
   ],
>>>>>>> f0c27d8002538efa62a408ef2fc7ae903845538d
   "source": [
    "## Imbalanced Models"
   ]
  },
  {
   "cell_type": "code",
<<<<<<< HEAD
   "execution_count": 41,
=======
   "execution_count": 52,
>>>>>>> f0c27d8002538efa62a408ef2fc7ae903845538d
   "metadata": {},
   "outputs": [
    {
     "name": "stdout",
     "output_type": "stream",
     "text": [
      "R²:  -0.2950790718960974\n",
      "Precison:  0.2009966777408638\n",
      "Recall:  0.0982940698619009\n",
      "Brier Score:  0.0026285485818889533\n",
      "F-0.5 Score:  0.16625446551250342\n",
      "Area under Precision Recall Curve:  0.1485285297779022\n",
      "confusion matrix:\n",
      " [[603565    481]\n",
      " [  1110    121]]\n"
     ]
    }
   ],
   "source": [
    "# Isolation Forest\n",
    "\n",
    "isolation_forest = IsolationForest(n_estimators=100, contamination=0.001)\n",
    "isolation_forest.fit(X_train)\n",
    "\n",
    "y_pred_if = isolation_forest.predict(X_test)\n",
    "y_pred_if = np.where(y_pred_if == -1, 1, 0)\n",
    "\n",
    "print(\"R²: \", r2_score(y_test, y_pred_if))\n",
    "print(\"Precison: \", precision_score(y_test, y_pred_if))\n",
    "print(\"Recall: \", recall_score(y_test, y_pred_if))\n",
    "print(\"Brier Score: \", brier_score_loss(y_test, y_pred_if))\n",
    "print(\"F-0.5 Score: \", fbeta_score(y_test, y_pred_if, beta=0.5))\n",
    "recall_if, precision_if, th_if = precision_recall_curve(y_test, y_pred_if)\n",
    "print(\"Area under Precision Recall Curve: \", auc(recall_if, precision_if))\n",
    "print(\"confusion matrix:\\n\", confusion_matrix(y_test, y_pred_if))\n"
   ]
  },
  {
   "cell_type": "code",
   "execution_count": 18,
   "metadata": {},
   "outputs": [
    {
     "name": "stdout",
     "output_type": "stream",
     "text": [
      "R²:  -41.6422356732674\n",
      "Precison:  0.02059202059202059\n",
      "Recall:  0.8827586206896552\n",
      "Brier Score:  0.5319797838968282\n",
      "F-0.5 Score:  0.025590787316566034\n",
      "Area under Precision Recall Curve:  0.4397809323522356\n",
      "confusion matrix:\n",
      " [[5243 6088]\n",
      " [  17  128]]\n"
     ]
    }
   ],
   "source": [
    "# One Class SVM\n",
    "\n",
    "one_class_svm = OneClassSVM()\n",
    "one_class_svm.fit(X_train_standard)\n",
    "\n",
    "y_pred_ocs = one_class_svm.predict(X_test_standard)\n",
    "y_pred_ocs = np.where(y_pred_ocs == -1, 1, 0)\n",
    "\n",
    "print(\"R²: \", r2_score(y_test, y_pred_ocs))\n",
    "print(\"Precison: \", precision_score(y_test, y_pred_ocs))\n",
    "print(\"Recall: \", recall_score(y_test, y_pred_ocs))\n",
    "print(\"Brier Score: \", brier_score_loss(y_test, y_pred_ocs))\n",
    "print(\"F-0.5 Score: \", fbeta_score(y_test, y_pred_ocs, beta=0.5))\n",
    "recall_ocs, precision_ocs, th_ocs = precision_recall_curve(y_test, y_pred_ocs)\n",
    "print(\"Area under Precision Recall Curve: \", auc(recall_ocs, precision_ocs))\n",
    "print(\"confusion matrix:\\n\", confusion_matrix(y_test, y_pred_ocs))"
   ]
  },
  {
   "cell_type": "code",
   "execution_count": 42,
   "metadata": {},
   "outputs": [],
   "source": [
    "# Local Outlier Factor\n",
    "\n",
    "local_outlier_factor = LocalOutlierFactor(n_neighbors=20, contamination=0.01, novelty=True)\n",
    "local_outlier_factor.fit(X_train_standard)\n",
    "\n",
    "y_pred_lof = local_outlier_factor.predict(X_test_standard)\n",
    "y_pred_lof = np.where(y_pred_lof == -1, 1, 0)\n",
    "\n",
    "print(\"R²: \", r2_score(y_test, y_pred_lof))\n",
    "print(\"Precison: \", precision_score(y_test, y_pred_lof))\n",
    "print(\"Recall: \", recall_score(y_test, y_pred_lof))\n",
    "print(\"Brier Score: \", brier_score_loss(y_test, y_pred_lof))\n",
    "print(\"F-0.5 Score: \", fbeta_score(y_test, y_pred_lof, beta=0.5))\n",
    "recall_lof, precision_lof, th_lof = precision_recall_curve(y_test, y_pred_lof)\n",
    "print(\"Area under Precision Recall Curve: \", auc(recall_lof, precision_lof))\n",
    "print(\"confusion matrix:\\n\", confusion_matrix(y_test, y_pred_lof))"
   ]
  }
 ],
 "metadata": {
  "kernelspec": {
   "display_name": "prefeitura_venv",
   "language": "python",
   "name": "python3"
  },
  "language_info": {
   "codemirror_mode": {
    "name": "ipython",
    "version": 3
   },
   "file_extension": ".py",
   "mimetype": "text/x-python",
   "name": "python",
   "nbconvert_exporter": "python",
   "pygments_lexer": "ipython3",
   "version": "3.10.2"
  }
 },
 "nbformat": 4,
 "nbformat_minor": 2
}
