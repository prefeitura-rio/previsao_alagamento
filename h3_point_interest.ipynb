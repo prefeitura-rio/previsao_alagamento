{
 "cells": [
  {
   "cell_type": "code",
   "execution_count": 1,
   "metadata": {},
   "outputs": [],
   "source": [
    "import pandas as pd\n",
    "import numpy as np\n",
    "import h3\n",
    "import basedosdados as bd"
   ]
  },
  {
   "cell_type": "code",
   "execution_count": 2,
   "metadata": {},
   "outputs": [
    {
     "name": "stdout",
     "output_type": "stream",
     "text": [
      "Please visit this URL to authorize this application: https://accounts.google.com/o/oauth2/auth?response_type=code&client_id=262006177488-3425ks60hkk80fssi9vpohv88g6q1iqd.apps.googleusercontent.com&redirect_uri=http%3A%2F%2Flocalhost%3A8080%2F&scope=https%3A%2F%2Fwww.googleapis.com%2Fauth%2Fcloud-platform&state=o0TziiMvBJWx2plEsYvoNWOwRlvoiK&prompt=consent&access_type=offline\n",
      "Downloading: 100%|\u001b[32m██████████\u001b[0m|\n"
     ]
    },
    {
     "data": {
      "text/html": [
       "<div>\n",
       "<style scoped>\n",
       "    .dataframe tbody tr th:only-of-type {\n",
       "        vertical-align: middle;\n",
       "    }\n",
       "\n",
       "    .dataframe tbody tr th {\n",
       "        vertical-align: top;\n",
       "    }\n",
       "\n",
       "    .dataframe thead th {\n",
       "        text-align: right;\n",
       "    }\n",
       "</style>\n",
       "<table border=\"1\" class=\"dataframe\">\n",
       "  <thead>\n",
       "    <tr style=\"text-align: right;\">\n",
       "      <th></th>\n",
       "      <th>id_pop</th>\n",
       "      <th>data_inicio</th>\n",
       "      <th>data_fim</th>\n",
       "      <th>latitude</th>\n",
       "      <th>longitude</th>\n",
       "      <th>gravidade</th>\n",
       "    </tr>\n",
       "  </thead>\n",
       "  <tbody>\n",
       "    <tr>\n",
       "      <th>0</th>\n",
       "      <td>5</td>\n",
       "      <td>2020-08-22 08:34:47+00:00</td>\n",
       "      <td>2020-08-22 16:15:27+00:00</td>\n",
       "      <td>-22.796325</td>\n",
       "      <td>-43.193710</td>\n",
       "      <td>Baixo</td>\n",
       "    </tr>\n",
       "    <tr>\n",
       "      <th>1</th>\n",
       "      <td>5</td>\n",
       "      <td>2020-08-21 19:36:26+00:00</td>\n",
       "      <td>2020-08-22 16:26:32+00:00</td>\n",
       "      <td>-22.906847</td>\n",
       "      <td>-43.379929</td>\n",
       "      <td>Baixo</td>\n",
       "    </tr>\n",
       "    <tr>\n",
       "      <th>2</th>\n",
       "      <td>5</td>\n",
       "      <td>2020-08-21 20:02:27+00:00</td>\n",
       "      <td>2020-08-22 04:48:35+00:00</td>\n",
       "      <td>-22.904375</td>\n",
       "      <td>-43.243687</td>\n",
       "      <td>Baixo</td>\n",
       "    </tr>\n",
       "    <tr>\n",
       "      <th>3</th>\n",
       "      <td>5</td>\n",
       "      <td>2020-08-21 12:16:03+00:00</td>\n",
       "      <td>2020-08-21 17:56:20+00:00</td>\n",
       "      <td>-22.967469</td>\n",
       "      <td>-43.335766</td>\n",
       "      <td>Baixo</td>\n",
       "    </tr>\n",
       "    <tr>\n",
       "      <th>4</th>\n",
       "      <td>5</td>\n",
       "      <td>2020-08-22 06:55:16+00:00</td>\n",
       "      <td>2020-08-22 09:23:20+00:00</td>\n",
       "      <td>-22.979583</td>\n",
       "      <td>-43.202491</td>\n",
       "      <td>Baixo</td>\n",
       "    </tr>\n",
       "  </tbody>\n",
       "</table>\n",
       "</div>"
      ],
      "text/plain": [
       "   id_pop               data_inicio                  data_fim   latitude  \\\n",
       "0       5 2020-08-22 08:34:47+00:00 2020-08-22 16:15:27+00:00 -22.796325   \n",
       "1       5 2020-08-21 19:36:26+00:00 2020-08-22 16:26:32+00:00 -22.906847   \n",
       "2       5 2020-08-21 20:02:27+00:00 2020-08-22 04:48:35+00:00 -22.904375   \n",
       "3       5 2020-08-21 12:16:03+00:00 2020-08-21 17:56:20+00:00 -22.967469   \n",
       "4       5 2020-08-22 06:55:16+00:00 2020-08-22 09:23:20+00:00 -22.979583   \n",
       "\n",
       "   longitude gravidade  \n",
       "0 -43.193710     Baixo  \n",
       "1 -43.379929     Baixo  \n",
       "2 -43.243687     Baixo  \n",
       "3 -43.335766     Baixo  \n",
       "4 -43.202491     Baixo  "
      ]
     },
     "execution_count": 2,
     "metadata": {},
     "output_type": "execute_result"
    }
   ],
   "source": [
    "# Comando para buscar os dados no BigQuery sobre as ocorrencias de alagamento\n",
    "query = \"SELECT o.id_pop, o.data_inicio, o.data_fim, o.latitude, o.longitude, o.gravidade  FROM `datario.adm_cor_comando.ocorrencias` as o WHERE o.id_pop in (31,5,32,6) \"\n",
    "proj_id = \"projeto-fgv1\"\n",
    "alagamento_df = bd.read_sql(query, billing_project_id=proj_id)\n",
    "alagamento_df.head()"
   ]
  },
  {
   "cell_type": "code",
   "execution_count": 31,
   "metadata": {},
   "outputs": [
    {
     "data": {
      "text/html": [
       "<div>\n",
       "<style scoped>\n",
       "    .dataframe tbody tr th:only-of-type {\n",
       "        vertical-align: middle;\n",
       "    }\n",
       "\n",
       "    .dataframe tbody tr th {\n",
       "        vertical-align: top;\n",
       "    }\n",
       "\n",
       "    .dataframe thead th {\n",
       "        text-align: right;\n",
       "    }\n",
       "</style>\n",
       "<table border=\"1\" class=\"dataframe\">\n",
       "  <thead>\n",
       "    <tr style=\"text-align: right;\">\n",
       "      <th></th>\n",
       "      <th>id_pop</th>\n",
       "      <th>data_inicio</th>\n",
       "      <th>data_fim</th>\n",
       "      <th>latitude</th>\n",
       "      <th>longitude</th>\n",
       "      <th>gravidade</th>\n",
       "      <th>h3</th>\n",
       "    </tr>\n",
       "  </thead>\n",
       "  <tbody>\n",
       "    <tr>\n",
       "      <th>0</th>\n",
       "      <td>5</td>\n",
       "      <td>2020-08-22 08:34:47+00:00</td>\n",
       "      <td>2020-08-22 16:15:27+00:00</td>\n",
       "      <td>-22.796325</td>\n",
       "      <td>-43.193710</td>\n",
       "      <td>Baixo</td>\n",
       "      <td>88a8a06887fffff</td>\n",
       "    </tr>\n",
       "    <tr>\n",
       "      <th>1</th>\n",
       "      <td>5</td>\n",
       "      <td>2020-08-21 19:36:26+00:00</td>\n",
       "      <td>2020-08-22 16:26:32+00:00</td>\n",
       "      <td>-22.906847</td>\n",
       "      <td>-43.379929</td>\n",
       "      <td>Baixo</td>\n",
       "      <td>88a8a062bbfffff</td>\n",
       "    </tr>\n",
       "    <tr>\n",
       "      <th>2</th>\n",
       "      <td>5</td>\n",
       "      <td>2020-08-21 20:02:27+00:00</td>\n",
       "      <td>2020-08-22 04:48:35+00:00</td>\n",
       "      <td>-22.904375</td>\n",
       "      <td>-43.243687</td>\n",
       "      <td>Baixo</td>\n",
       "      <td>88a8a06103fffff</td>\n",
       "    </tr>\n",
       "    <tr>\n",
       "      <th>3</th>\n",
       "      <td>5</td>\n",
       "      <td>2020-08-21 12:16:03+00:00</td>\n",
       "      <td>2020-08-21 17:56:20+00:00</td>\n",
       "      <td>-22.967469</td>\n",
       "      <td>-43.335766</td>\n",
       "      <td>Baixo</td>\n",
       "      <td>88a8a06203fffff</td>\n",
       "    </tr>\n",
       "    <tr>\n",
       "      <th>4</th>\n",
       "      <td>5</td>\n",
       "      <td>2020-08-22 06:55:16+00:00</td>\n",
       "      <td>2020-08-22 09:23:20+00:00</td>\n",
       "      <td>-22.979583</td>\n",
       "      <td>-43.202491</td>\n",
       "      <td>Baixo</td>\n",
       "      <td>88a8a078cbfffff</td>\n",
       "    </tr>\n",
       "  </tbody>\n",
       "</table>\n",
       "</div>"
      ],
      "text/plain": [
       "   id_pop               data_inicio                  data_fim   latitude  \\\n",
       "0       5 2020-08-22 08:34:47+00:00 2020-08-22 16:15:27+00:00 -22.796325   \n",
       "1       5 2020-08-21 19:36:26+00:00 2020-08-22 16:26:32+00:00 -22.906847   \n",
       "2       5 2020-08-21 20:02:27+00:00 2020-08-22 04:48:35+00:00 -22.904375   \n",
       "3       5 2020-08-21 12:16:03+00:00 2020-08-21 17:56:20+00:00 -22.967469   \n",
       "4       5 2020-08-22 06:55:16+00:00 2020-08-22 09:23:20+00:00 -22.979583   \n",
       "\n",
       "   longitude gravidade               h3  \n",
       "0 -43.193710     Baixo  88a8a06887fffff  \n",
       "1 -43.379929     Baixo  88a8a062bbfffff  \n",
       "2 -43.243687     Baixo  88a8a06103fffff  \n",
       "3 -43.335766     Baixo  88a8a06203fffff  \n",
       "4 -43.202491     Baixo  88a8a078cbfffff  "
      ]
     },
     "execution_count": 31,
     "metadata": {},
     "output_type": "execute_result"
    }
   ],
   "source": [
    "res = 8 #resolucao do datagrid\n",
    "alagamento_df[\"h3\"] = alagamento_df.apply(lambda row: h3.geo_to_h3(row[\"latitude\"],row[\"longitude\"], res),axis=1)\n",
    "alagamento_df.head()"
   ]
  },
  {
   "cell_type": "code",
   "execution_count": 13,
   "metadata": {},
   "outputs": [],
   "source": [
    "alagamento_df.to_csv(\"csvs/alagamento7.csv\",index=False)"
   ]
  },
  {
   "cell_type": "code",
   "execution_count": 32,
   "metadata": {},
   "outputs": [
    {
     "name": "stdout",
     "output_type": "stream",
     "text": [
      "h3\n",
      "88754e6499fffff    335\n",
      "88a8a07191fffff    146\n",
      "88a8a06a41fffff    137\n",
      "88a8a078ebfffff     77\n",
      "88a8a078abfffff     71\n",
      "                  ... \n",
      "88a8a06a6bfffff      1\n",
      "88a8a0628bfffff      1\n",
      "88a8a0755dfffff      1\n",
      "88a8a07517fffff      1\n",
      "88a8a06e2bfffff      1\n",
      "Name: count, Length: 560, dtype: int64\n"
     ]
    }
   ],
   "source": [
    "h3_most_occ = alagamento_df[\"h3\"].value_counts().index[0]\n",
    "print(h3_most_occ)"
   ]
  },
  {
   "cell_type": "code",
   "execution_count": 33,
   "metadata": {},
   "outputs": [
    {
     "ename": "ValueError",
     "evalue": "Can only compare identically-labeled Series objects",
     "output_type": "error",
     "traceback": [
      "\u001b[0;31m---------------------------------------------------------------------------\u001b[0m",
      "\u001b[0;31mValueError\u001b[0m                                Traceback (most recent call last)",
      "\u001b[1;32m/home/vini/Documents/GitHub/previsao_alagamento/h3_point_interest.ipynb Cell 6\u001b[0m line \u001b[0;36m1\n\u001b[0;32m----> <a href='vscode-notebook-cell:/home/vini/Documents/GitHub/previsao_alagamento/h3_point_interest.ipynb#X10sZmlsZQ%3D%3D?line=0'>1</a>\u001b[0m alagamento_df[alagamento_df[\u001b[39m'\u001b[39;49m\u001b[39mh3\u001b[39;49m\u001b[39m'\u001b[39;49m]\u001b[39m==\u001b[39;49mh3_most_occ][\u001b[39m'\u001b[39m\u001b[39mid_pop\u001b[39m\u001b[39m'\u001b[39m]\u001b[39m.\u001b[39mvalue_counts()\n",
      "File \u001b[0;32m~/.pyenv/versions/3.9.18/envs/field/lib/python3.9/site-packages/pandas/core/ops/common.py:81\u001b[0m, in \u001b[0;36m_unpack_zerodim_and_defer.<locals>.new_method\u001b[0;34m(self, other)\u001b[0m\n\u001b[1;32m     77\u001b[0m             \u001b[39mreturn\u001b[39;00m \u001b[39mNotImplemented\u001b[39m\n\u001b[1;32m     79\u001b[0m other \u001b[39m=\u001b[39m item_from_zerodim(other)\n\u001b[0;32m---> 81\u001b[0m \u001b[39mreturn\u001b[39;00m method(\u001b[39mself\u001b[39;49m, other)\n",
      "File \u001b[0;32m~/.pyenv/versions/3.9.18/envs/field/lib/python3.9/site-packages/pandas/core/arraylike.py:40\u001b[0m, in \u001b[0;36mOpsMixin.__eq__\u001b[0;34m(self, other)\u001b[0m\n\u001b[1;32m     38\u001b[0m \u001b[39m@unpack_zerodim_and_defer\u001b[39m(\u001b[39m\"\u001b[39m\u001b[39m__eq__\u001b[39m\u001b[39m\"\u001b[39m)\n\u001b[1;32m     39\u001b[0m \u001b[39mdef\u001b[39;00m \u001b[39m__eq__\u001b[39m(\u001b[39mself\u001b[39m, other):\n\u001b[0;32m---> 40\u001b[0m     \u001b[39mreturn\u001b[39;00m \u001b[39mself\u001b[39;49m\u001b[39m.\u001b[39;49m_cmp_method(other, operator\u001b[39m.\u001b[39;49meq)\n",
      "File \u001b[0;32m~/.pyenv/versions/3.9.18/envs/field/lib/python3.9/site-packages/pandas/core/series.py:6090\u001b[0m, in \u001b[0;36mSeries._cmp_method\u001b[0;34m(self, other, op)\u001b[0m\n\u001b[1;32m   6087\u001b[0m res_name \u001b[39m=\u001b[39m ops\u001b[39m.\u001b[39mget_op_result_name(\u001b[39mself\u001b[39m, other)\n\u001b[1;32m   6089\u001b[0m \u001b[39mif\u001b[39;00m \u001b[39misinstance\u001b[39m(other, Series) \u001b[39mand\u001b[39;00m \u001b[39mnot\u001b[39;00m \u001b[39mself\u001b[39m\u001b[39m.\u001b[39m_indexed_same(other):\n\u001b[0;32m-> 6090\u001b[0m     \u001b[39mraise\u001b[39;00m \u001b[39mValueError\u001b[39;00m(\u001b[39m\"\u001b[39m\u001b[39mCan only compare identically-labeled Series objects\u001b[39m\u001b[39m\"\u001b[39m)\n\u001b[1;32m   6092\u001b[0m lvalues \u001b[39m=\u001b[39m \u001b[39mself\u001b[39m\u001b[39m.\u001b[39m_values\n\u001b[1;32m   6093\u001b[0m rvalues \u001b[39m=\u001b[39m extract_array(other, extract_numpy\u001b[39m=\u001b[39m\u001b[39mTrue\u001b[39;00m, extract_range\u001b[39m=\u001b[39m\u001b[39mTrue\u001b[39;00m)\n",
      "\u001b[0;31mValueError\u001b[0m: Can only compare identically-labeled Series objects"
     ]
    }
   ],
   "source": [
    "alagamento_df[alagamento_df['h3']==h3_most_occ]['id_pop'].value_counts()"
   ]
  }
 ],
 "metadata": {
  "kernelspec": {
   "display_name": "field",
   "language": "python",
   "name": "python3"
  },
  "language_info": {
   "codemirror_mode": {
    "name": "ipython",
    "version": 3
   },
   "file_extension": ".py",
   "mimetype": "text/x-python",
   "name": "python",
   "nbconvert_exporter": "python",
   "pygments_lexer": "ipython3",
   "version": "3.9.18"
  },
  "orig_nbformat": 4
 },
 "nbformat": 4,
 "nbformat_minor": 2
}
